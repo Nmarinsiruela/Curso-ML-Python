{
  "nbformat": 4,
  "nbformat_minor": 0,
  "metadata": {
    "colab": {
      "name": "NMS - 5 - KNN.ipynb",
      "version": "0.3.2",
      "provenance": [],
      "collapsed_sections": [],
      "include_colab_link": true
    },
    "kernelspec": {
      "name": "python3",
      "display_name": "Python 3"
    }
  },
  "cells": [
    {
      "cell_type": "markdown",
      "metadata": {
        "id": "view-in-github",
        "colab_type": "text"
      },
      "source": [
        "<a href=\"https://colab.research.google.com/github/Nmarinsiruela/Curso-ML-Python/blob/master/NMS_5_KNN.ipynb\" target=\"_parent\"><img src=\"https://colab.research.google.com/assets/colab-badge.svg\" alt=\"Open In Colab\"/></a>"
      ]
    },
    {
      "metadata": {
        "id": "dAJxf5tZGZUj",
        "colab_type": "text"
      },
      "cell_type": "markdown",
      "source": [
        "# Notebook 5 - Clasificación K-Nearest Neighbours\n",
        "\n",
        "\n",
        "*   Recuerda que puedes consultar la documentación sobre una función escribiendo **?** justo después de la función: *Ejemplo: np.maximum?*\n",
        "*   Puedes ejecutar el contenido de una celda con el atajo de teclado **CTRL+ENTER**\n",
        "*   Utiliza **TAB** cada vez que quieras autocompletar una llamada a una función.\n",
        "*   Puedes ejecutar instrucciones de bash directamente desde el notebook usando **!** : *Ejemplo: !pip install tensorflow*"
      ]
    },
    {
      "metadata": {
        "id": "4AXcLoWrKFDI",
        "colab_type": "text"
      },
      "cell_type": "markdown",
      "source": [
        "## 0. Precarga de datos y librerías."
      ]
    },
    {
      "metadata": {
        "id": "5If1hVAarbki",
        "colab_type": "code",
        "colab": {}
      },
      "cell_type": "code",
      "source": [
        "import numpy   as np\n",
        "import scipy   as sc\n",
        "import pandas  as pd\n",
        "import seaborn as sb\n",
        "import matplotlib.pyplot as plt\n",
        "\n",
        "from sklearn.datasets import load_wine"
      ],
      "execution_count": 0,
      "outputs": []
    },
    {
      "metadata": {
        "id": "WgxCQF2YiXSB",
        "colab_type": "code",
        "colab": {}
      },
      "cell_type": "code",
      "source": [
        "wine_data = load_wine()\n",
        "\n",
        "# print(wine_data.DESCR)\n",
        "\n",
        "X = wine_data.data\n",
        "Y = wine_data.target\n",
        "\n",
        "Y = Y[:, np.newaxis]"
      ],
      "execution_count": 0,
      "outputs": []
    },
    {
      "metadata": {
        "id": "8pbcA1dErlTo",
        "colab_type": "text"
      },
      "cell_type": "markdown",
      "source": [
        "## 1. Visualizando KNN\n",
        "---\n",
        "\n",
        "Implementar una función ***visualize_KNN($X_1$, $X_2$, $Y$, $k$, $dist$)*** que tome como parámetros de entrada dos variables de entrada $x1$ y $x2$ y el vector de etiquetas $Y$ , para que se encargue de visualizar un scatter plot donde se vean estas dos variables de entradas graficadas, identificando por color el tipo de clase a la que pertenece. Esta función deberá de utilizar los parámetros de entrada $k$ (número de valores a usar por KNN) y $dist$ (tipo de función que mide la distancia entre dos puntos, en este caso la euclídea) para realizar un KNN que prediga la clase para todas las combinaciones de puntos que se pueden generar en dicho scatter plot, para así poder sobreimpresionar un mapa de color que nos muestre la frontera de decisión del modelo. En la siguiente imagen se puede ver un ejemplo del resultado que se espera obtener:\n",
        "\n",
        "![texto alternativo](http://www.mtechprojects.org/wp-content/uploads/2017/12/k-Nearest-Neighbor.png)\n",
        "\n",
        "Una vez se haya implementado la función, probar a graficar diferentes variables, para diferentes valores de K.\n",
        "\n",
        "**Pista:** Puede ser util para este ejercicio conocer las funciones ***np.meshgrid()*** y ***plt.pcolormesh()***.\n"
      ]
    },
    {
      "metadata": {
        "id": "NIMvKfcnnb7R",
        "colab_type": "code",
        "outputId": "9c0144fc-e99a-46e7-b287-ad62ee302b78",
        "colab": {
          "base_uri": "https://localhost:8080/",
          "height": 464
        }
      },
      "cell_type": "code",
      "source": [
        "import operator\n",
        "from matplotlib.colors import ListedColormap\n",
        "def visualize_knn(x_1, x_2, y, k, dist):\n",
        "  # Estandarizar valores para reducir valores muy altos problemáticos.\n",
        "  x_1n = standardize(x_1)\n",
        "  x_2n = standardize(x_2)\n",
        "\n",
        "  # Representación de puntos.\n",
        "  plt.scatter(x_1n[Y==0], x_2n[Y==0], c=\"r\")\n",
        "  plt.scatter(x_1n[Y==1], x_2n[Y==1], c=\"g\")\n",
        "  plt.scatter(x_1n[Y==2], x_2n[Y==2], c=\"b\")\n",
        "  \n",
        "  # Crear un grid para mostrar todos los puntos\n",
        "  resolution = 50\n",
        "  grid_x1 = np.linspace(np.amin(x_1n), np.amax(x_1n), resolution)\n",
        "  grid_x2 = np.linspace(np.amin(x_2n), np.amax(x_2n), resolution)\n",
        "  \n",
        "  xx, yy = np.meshgrid(grid_x1, grid_x2)\n",
        "\n",
        "  # Aplicar el KNN para obtener la matriz correcta de valores.\n",
        "  zz = knn(xx, yy, x_1n, x_2n, y, k, dist)\n",
        "\n",
        "  # Dibujar el grid.\n",
        "  color = ListedColormap(['#FFAAAA', '#AAFFAA', '#AAAAFF'])\n",
        "  plt.pcolor(xx, yy, zz, alpha=0.6, cmap=color)\n",
        "  plt.show()\n",
        "  \n",
        "# Función principal que aplica el KNN.\n",
        "def knn(x, y, X1,X2, Y, k, dist):\n",
        "    n, m = x.shape\n",
        "    matrix = np.empty(shape=[n, n])\n",
        "    for xx in range(len(x)):\n",
        "      for yy in range(len(y)):\n",
        "        neighbors = getNeighbors(x[xx][yy], y[xx][yy], X1, X2, k, dist)\n",
        "        response = getResponses(neighbors, Y)\n",
        "        matrix[xx][yy] = response\n",
        "    return matrix\n",
        "  \n",
        "# Calcula la distancia entre dos puntos.\n",
        "def euclideanDistance(p1, p2, x1, x2):\n",
        "  distance = pow((x1-p1), 2) + pow((x2 - p2), 2)\n",
        "  result = np.sqrt(distance)\n",
        "  return result\n",
        " \n",
        "# Devuelve un array de índices de los puntos de los vecinos.\n",
        "def getNeighbors(p1,p2, X1, X2, k, dist):\n",
        "  distances = [euclideanDistance(p1,p2,X1[x],X2[x])[0] for x in range(len(X1)) ]\n",
        "  distances = np.argsort(distances)[:k]\n",
        "  neighbors = []\n",
        "  for x in range(k):\n",
        "    neighbors.append(distances[x])\n",
        "  return neighbors\n",
        "\n",
        "# Dado un array de vecinos, devuelve el valor correcto de Y.\n",
        "def getResponses(neighbors, y):\n",
        "  votes = [y[neighbors[x]][0] for x in range(len(neighbors))]\n",
        "  proposed = np.bincount(votes)\n",
        "  result = np.argmax(proposed)\n",
        "  return result\n",
        "\n",
        "# Función para estandarizar.\n",
        "def center(Xval):\n",
        "    newX = Xval - np.mean(Xval, axis = 0)\n",
        "    return newX\n",
        "\n",
        "# Función para estandarizar.\n",
        "def standardize(Xval):\n",
        "    newX = center(Xval)/np.std(Xval, axis = 0)\n",
        "    return newX\n",
        "\n",
        "print(\"Number of indexes: 1:13\")\n",
        "print(\"First index:\")  \n",
        "index_1 = int(input())\n",
        "print(\"Second index:\")  \n",
        "index_2 = int(input())\n",
        "\n",
        "x_1 = X[:, index_1:index_1+1]\n",
        "x_2 = X[:, index_2:index_2+1]\n",
        "\n",
        "print(\"K value:\")\n",
        "k = int(input())\n",
        "\n",
        "dist = euclideanDistance\n",
        "visualize_knn(x_1, x_2, Y, k, dist)"
      ],
      "execution_count": 10,
      "outputs": [
        {
          "output_type": "stream",
          "text": [
            "Number of indexes: 1:13\n",
            "First index:\n",
            "5\n",
            "Second index:\n",
            "6\n",
            "K value:\n",
            "3\n"
          ],
          "name": "stdout"
        },
        {
          "output_type": "display_data",
          "data": {
            "image/png": "[encoded data removed]",
            "text/plain": [
              "<Figure size 576x396 with 1 Axes>"
            ]
          },
          "metadata": {
            "tags": []
          }
        }
      ]
    },
    {
      "metadata": {
        "id": "tQGrJwbRjbFc",
        "colab_type": "text"
      },
      "cell_type": "markdown",
      "source": [
        "## 2. Seleccionar la K usando Cross-Validation\n",
        "\n",
        "Para seleccionar los valores del hiperparámetro K en el algoritmo de K-Nearest Neighbours, se necesita realizar una división del conjunto de datos al igual que se hacía previamente con el conjunto de *train* y *test*.\n",
        "\n",
        "---\n",
        "\n",
        "Utilizar la función KNN implementada por la librería Sklearn y analizar con todas las variables de entrada del dataset de vinos, cuál es el mejor valor a utilizar de *n_neighbors=*. Comenzar reescalando las variables de entrada para conseguir un mejor análisis que no se vea afectado por las diferencias de rangos de valores de cada variable (¿Tendrá Sklearn alguna funcionalidad que haga esto?). Una vez se reescalen las variables, se procede a entrenar y evaluar el modelo.\n",
        "\n",
        "1. Comenzar realizando una partición de los datos en train/test de 70%/30%.\n",
        "2. Comprobar cuál es el mejor valor que podemos asignar al hiperparámetro K. Probar con valores de K que iteren de 1 a 15. Para cada una de las K, se evalúa correctamente dividiendo el dataset de entrenamiento *train*, sobre el que se realizará **10-Cross-validation**: es decir, se entrena 10 veces el modelo para cada valor de K, utilizando en cada caso una partición (***fold***) diferente para la validación. Con las 10 validaciones obtenidas para cada K, calcular la media, y reportar una gráfica donde en el eje X se visualice cada valor de K y en el eje Y la evaluación (score()) media que se ha obtenido en cada caso.\n",
        "3. Utilizar el valor de K que menos error ha generado en el punto 2, para entrenar nuevamente el modelo con dicho valor y evaluarlo en el *test* set que se ha generado inicialmente."
      ]
    },
    {
      "metadata": {
        "id": "zPihxPAL1pOh",
        "colab_type": "code",
        "outputId": "2bb4bae4-6fda-4af3-dc25-e6fdb0c8ef4a",
        "colab": {
          "base_uri": "https://localhost:8080/",
          "height": 394
        }
      },
      "cell_type": "code",
      "source": [
        "import sklearn as sk\n",
        "from sklearn.neighbors import KNeighborsClassifier\n",
        "from sklearn.model_selection import train_test_split\n",
        "from sklearn.model_selection import cross_val_score, KFold\n",
        "from sklearn.metrics import accuracy_score\n",
        "\n",
        "# 1\n",
        "X_n = sk.preprocessing.scale(X, with_mean=True, with_std=True)\n",
        "\n",
        "x_train, x_test, y_train, y_test = train_test_split(X_n, Y, test_size=0.3)\n",
        "y_train = y_train.ravel()\n",
        "\n",
        "# 2\n",
        "# Crear el array de Ks\n",
        "K_array = list(range(1,15))\n",
        "\n",
        "\n",
        "avg_scores = []\n",
        "\n",
        "for k in K_array:\n",
        "  knn = KNeighborsClassifier(n_neighbors=k,weights=\"distance\")\n",
        "  scores = cross_val_score(knn, x_train, y_train, cv=10, scoring='accuracy')\n",
        "  avg_scores.append(scores.mean())\n",
        "\n",
        "# Determinar la mejor K\n",
        "optimal_k = K_array[avg_scores.index(max(avg_scores))]\n",
        "print(F\"The optimal number of neighbors is {optimal_k}\")\n",
        "\n",
        "# Plotear la gráfica de precisión contra K.\n",
        "plt.plot(K_array, avg_scores)\n",
        "plt.xlabel('K')\n",
        "plt.ylabel('Average Accuracy')\n",
        "plt.show()\n",
        "\n",
        "# 3\n",
        "\n",
        "knn_opt = KNeighborsClassifier(n_neighbors=optimal_k,weights=\"distance\")\n",
        "\n",
        "# fitting the model\n",
        "knn_opt.fit(x_train, y_train)\n",
        "\n",
        "# evaluate accuracy\n",
        "print(\"Final accuracy:\",knn_opt.score(x_test, y_test)) "
      ],
      "execution_count": 8,
      "outputs": [
        {
          "output_type": "stream",
          "text": [
            "The optimal number of neighbors is 3\n"
          ],
          "name": "stdout"
        },
        {
          "output_type": "display_data",
          "data": {
            "image/png": "[encoded data removed]",
            "text/plain": [
              "<Figure size 576x396 with 1 Axes>"
            ]
          },
          "metadata": {
            "tags": []
          }
        },
        {
          "output_type": "stream",
          "text": [
            "Final accuracy: 0.9629629629629629\n"
          ],
          "name": "stdout"
        }
      ]
    }
  ]
}